{
 "cells": [
  {
   "cell_type": "code",
   "execution_count": 4,
   "metadata": {},
   "outputs": [
    {
     "name": "stdout",
     "output_type": "stream",
     "text": [
      "Please enter your name - ineelhere\n"
     ]
    }
   ],
   "source": [
    "#asking user for a text (name)\n",
    "username = input('Please enter your name - ')"
   ]
  },
  {
   "cell_type": "code",
   "execution_count": 6,
   "metadata": {},
   "outputs": [
    {
     "name": "stdout",
     "output_type": "stream",
     "text": [
      "Hello ineelhere\n"
     ]
    }
   ],
   "source": [
    "#lets greet the user now\n",
    "print ('Hello '+ username)"
   ]
  },
  {
   "cell_type": "code",
   "execution_count": 7,
   "metadata": {},
   "outputs": [
    {
     "name": "stdout",
     "output_type": "stream",
     "text": [
      "Please enter your Birth Year - 1000\n"
     ]
    }
   ],
   "source": [
    "#OK so lets go one step ahead ;) -- just to give you a feel of what we can do with programming\n",
    "#now its time to help the user know his/her age\n",
    "\n",
    "#ask the user's birth year\n",
    "year = input('Please enter your Birth Year - ')"
   ]
  },
  {
   "cell_type": "code",
   "execution_count": 11,
   "metadata": {},
   "outputs": [
    {
     "name": "stdout",
     "output_type": "stream",
     "text": [
      "Hey ineelhere, You are 1020 years old :) \n"
     ]
    }
   ],
   "source": [
    "#calculating the age, here we have to change the type for year from string to integer\n",
    "age = 2020-int(year)\n",
    "\n",
    "#now we will print the results\n",
    "print(f'Hey {username}, You are {age} years old :) ')\n",
    "    "
   ]
  },
  {
   "cell_type": "code",
   "execution_count": null,
   "metadata": {},
   "outputs": [],
   "source": [
    "#using \"f\" before writing the print statement saves us a lot of time and effort\n",
    "#just need to keep in mind that we are keeping the variables in {}\n"
   ]
  }
 ],
 "metadata": {
  "kernelspec": {
   "display_name": "Python 3.8.1 32-bit",
   "language": "python",
   "name": "python38132bit93aab49dff954651a4c1e4402da878fd"
  },
  "language_info": {
   "codemirror_mode": {
    "name": "ipython",
    "version": 3
   },
   "file_extension": ".py",
   "mimetype": "text/x-python",
   "name": "python",
   "nbconvert_exporter": "python",
   "pygments_lexer": "ipython3",
   "version": "3.8.1"
  }
 },
 "nbformat": 4,
 "nbformat_minor": 4
}
