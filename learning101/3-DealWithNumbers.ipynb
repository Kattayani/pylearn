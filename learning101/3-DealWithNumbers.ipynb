{
 "cells": [
  {
   "cell_type": "code",
   "execution_count": 1,
   "metadata": {},
   "outputs": [
    {
     "name": "stdout",
     "output_type": "stream",
     "text": [
      "The datatype for variable 20 is <class 'int'>\n"
     ]
    }
   ],
   "source": [
    "# first let us understand the datatypes.\n",
    "\n",
    "# integer datatype\n",
    "print(f\"The datatype for variable 20 is {type(20)}\") # <class 'int'>"
   ]
  },
  {
   "cell_type": "code",
   "execution_count": 2,
   "metadata": {},
   "outputs": [
    {
     "name": "stdout",
     "output_type": "stream",
     "text": [
      "The datatype for variable 20.02 is <class 'float'>\n"
     ]
    }
   ],
   "source": [
    "# float datatype\n",
    "print(f\"The datatype for variable 20.02 is {type(20.02)}\") # <class 'float'>"
   ]
  },
  {
   "cell_type": "code",
   "execution_count": 3,
   "metadata": {},
   "outputs": [
    {
     "name": "stdout",
     "output_type": "stream",
     "text": [
      "The datatype for variable 'abcd efg hijk lmnop' is <class 'str'>\n"
     ]
    }
   ],
   "source": [
    "# string datatype\n",
    "print(f\"The datatype for variable 'abcd efg hijk lmnop' is {type('abcd efg hijk lmnop')}\") #<class 'str'>"
   ]
  },
  {
   "cell_type": "code",
   "execution_count": 4,
   "metadata": {},
   "outputs": [
    {
     "name": "stdout",
     "output_type": "stream",
     "text": [
      "0b11111100100\n",
      "2020\n"
     ]
    }
   ],
   "source": [
    "#get the binary for the number\n",
    "print(bin(2020)) #prints the binary form of 2020 which is 0b11111100100\n",
    "#get number(integer) from binary form\n",
    "print(int('0b11111100100', 2)) # 2 for printing the integer form by base as 2\n",
    "\n",
    "# ---------------- that would be enogh for now to understand about the datatypes."
   ]
  },
  {
   "cell_type": "code",
   "execution_count": 5,
   "metadata": {},
   "outputs": [
    {
     "name": "stdout",
     "output_type": "stream",
     "text": [
      "Sum of 3 and 5 is 8\n",
      "difference of 3 and 5 is -2\n",
      "Product of 3 and 5 is 15\n",
      "Fraction or Division of 3 and 5 is 0.6\n",
      "exponent of 3 with 5 is 243\n",
      "Modulus of 3 and 5 is 3\n"
     ]
    }
   ],
   "source": [
    "# Let us now perform some arithmetic operations\n",
    "\n",
    "#arithmetic operations without variables\n",
    "print(f\"Sum of 3 and 5 is {3+5}\")\n",
    "print(f\"difference of 3 and 5 is {3-5}\")\n",
    "print(f\"Product of 3 and 5 is {3*5}\")\n",
    "print(f\"Fraction or Division of 3 and 5 is {3/5}\")\n",
    "print(f\"exponent of 3 with 5 is {3**5}\") #exponent\n",
    "print(f\"Modulus of 3 and 5 is {3%5}\")#mod"
   ]
  },
  {
   "cell_type": "code",
   "execution_count": 9,
   "metadata": {},
   "outputs": [
    {
     "name": "stdout",
     "output_type": "stream",
     "text": [
      "Enter a number. It will be stored as 'a' = 7.23\n",
      "Enter another number. It will be stored as 'b' = 30\n"
     ]
    }
   ],
   "source": [
    "#arithmetic operations with variables\n",
    "\n",
    "a = input(\"Enter a number. It will be stored as 'a' = \")\n",
    "b = input(\"Enter another number. It will be stored as 'b' = \")\n",
    "#python accepts inputs as str. So whenever we need to perform any mathematical operations, we need to change the datatypes"
   ]
  },
  {
   "cell_type": "code",
   "execution_count": 10,
   "metadata": {},
   "outputs": [
    {
     "name": "stdout",
     "output_type": "stream",
     "text": [
      "You see, I am writing here a+b but the output will not be the sum. \n",
      "Instead, you will see the two numbers will be concatenated! \n",
      "Here is the output = 7.2330\n"
     ]
    }
   ],
   "source": [
    "print(f\"You see, I am writing here a+b but the output will not be the sum. \\nInstead, you will see the two numbers will be concatenated! \\nHere is the output = {a+b}\")\n"
   ]
  },
  {
   "cell_type": "code",
   "execution_count": 11,
   "metadata": {},
   "outputs": [
    {
     "name": "stdout",
     "output_type": "stream",
     "text": [
      "Sum of 7.23 and 30.0 is 37.230000000000004\n",
      "difference of 7.23 and 30.0 is -22.77\n",
      "Product of 7.23 and 30.0 is 216.9\n",
      "Fraction or Division of 7.23 and 30.0 is 0.24100000000000002\n",
      "exponent of 7.23 with 30.0 is 5.94495975323717e+25\n",
      "Modulus of 7.23 and 30.0 is 7.23\n"
     ]
    }
   ],
   "source": [
    "a = float(a) #keeping in float is safer as user might feed data with decimals\n",
    "b = float(b) #keeping in float is safer as user might feed data with decimals\n",
    "\n",
    "print(f\"Sum of {a} and {b} is {a+b}\")\n",
    "print(f\"difference of {a} and {b} is {a-b}\")\n",
    "print(f\"Product of {a} and {b} is {a*b}\")\n",
    "print(f\"Fraction or Division of {a} and {b} is {a/b}\")\n",
    "print(f\"exponent of {a} with {b} is {a**b}\") #exponent\n",
    "print(f\"Modulus of {a} and {b} is {a%b}\")#mod"
   ]
  },
  {
   "cell_type": "code",
   "execution_count": null,
   "metadata": {},
   "outputs": [],
   "source": []
  }
 ],
 "metadata": {
  "kernelspec": {
   "display_name": "Python 3.8.1 32-bit",
   "language": "python",
   "name": "python38132bit93aab49dff954651a4c1e4402da878fd"
  },
  "language_info": {
   "codemirror_mode": {
    "name": "ipython",
    "version": 3
   },
   "file_extension": ".py",
   "mimetype": "text/x-python",
   "name": "python",
   "nbconvert_exporter": "python",
   "pygments_lexer": "ipython3",
   "version": "3.8.1"
  }
 },
 "nbformat": 4,
 "nbformat_minor": 4
}
