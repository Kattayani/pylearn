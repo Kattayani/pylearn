{
 "cells": [
  {
   "cell_type": "code",
   "execution_count": 1,
   "metadata": {},
   "outputs": [],
   "source": [
    "# MATH FUNCTIONS IN PYTHON\n",
    "# SOURCE - https://docs.python.org/3/library/math.html\n",
    "#--------------------------------------------------------------------------------------------------\n",
    "\n",
    "# first we need to import the math module\n",
    "# This module provides access to the mathematical functions defined by the C standard.\n",
    "#\n",
    "# These functions cannot be used with complex numbers; use the functions of the same name from the cmath module if you require support for complex numbers. The distinction between functions which support complex numbers and those which don’t is made since most users do not want to learn quite as much mathematics as required to understand complex numbers. Receiving an exception instead of a complex result allows earlier detection of the unexpected complex number used as a parameter, so that the programmer can determine how and why it was generated in the first place.\n",
    "#\n",
    "# The following functions are provided by this module. Except when explicitly noted otherwise, all return values are floats.\n",
    "import  math\n"
   ]
  },
  {
   "cell_type": "code",
   "execution_count": 2,
   "metadata": {},
   "outputs": [
    {
     "name": "stdout",
     "output_type": "stream",
     "text": [
      "\n",
      "math.ceil(x)\n",
      "Return the ceiling of x, the smallest integer greater than or equal to x.\n",
      "If x is not a float, delegates to x.__ceil__(), which should return an Integral value.\n",
      "\n"
     ]
    }
   ],
   "source": [
    "\n",
    "# --------------Number-theoretic and representation functions--------------------------------------\n",
    "long_string = '''\n",
    "math.ceil(x)\n",
    "Return the ceiling of x, the smallest integer greater than or equal to x.\n",
    "If x is not a float, delegates to x.__ceil__(), which should return an Integral value.\n",
    "'''\n",
    "print(long_string)\n"
   ]
  },
  {
   "cell_type": "code",
   "execution_count": 3,
   "metadata": {},
   "outputs": [
    {
     "name": "stdout",
     "output_type": "stream",
     "text": [
      "\n",
      "--------------------math.ceil(x)-------------------------------\n",
      "math.ceil(x) --- for number = 404 --- 404\n",
      "math.ceil(x) --- for number = 404.01 --- 405\n",
      "math.ceil(x) --- for number = 404.36 --- 405\n",
      "math.ceil(x) --- for number = 404.50 --- 405\n",
      "math.ceil(x) --- for number = 404.86 --- 405\n",
      "---------------------------------------------------------------\n",
      "\n"
     ]
    }
   ],
   "source": [
    "print(\"\\n--------------------math.ceil(x)-------------------------------\")\n",
    "print(f\"math.ceil(x) --- for number = 404 --- {math.ceil(404)}\")\n",
    "print(f\"math.ceil(x) --- for number = 404.01 --- {math.ceil(404.01)}\")\n",
    "print(f\"math.ceil(x) --- for number = 404.36 --- {math.ceil(404.36)}\")\n",
    "print(f\"math.ceil(x) --- for number = 404.50 --- {math.ceil(404.50)}\")\n",
    "print(f\"math.ceil(x) --- for number = 404.86 --- {math.ceil(404.86)}\")\n",
    "print(\"---------------------------------------------------------------\\n\")"
   ]
  },
  {
   "cell_type": "code",
   "execution_count": 4,
   "metadata": {},
   "outputs": [
    {
     "name": "stdout",
     "output_type": "stream",
     "text": [
      "\n",
      "math.comb(n, k)\n",
      "Return the number of ways to choose k items from n items without repetition and without order.\n",
      "Evaluates to n! / (k! * (n - k)!) when k <= n and evaluates to zero when k > n.\n",
      "Also called the binomial coefficient because it is equivalent to the coefficient of k-th term in polynomial expansion of the expression (1 + x) ** n.\n",
      "Raises TypeError if either of the arguments are not integers. Raises ValueError if either of the arguments are negative.\n",
      "\n"
     ]
    }
   ],
   "source": [
    "long_string = '''\n",
    "math.comb(n, k)\n",
    "Return the number of ways to choose k items from n items without repetition and without order.\n",
    "Evaluates to n! / (k! * (n - k)!) when k <= n and evaluates to zero when k > n.\n",
    "Also called the binomial coefficient because it is equivalent to the coefficient of k-th term in polynomial expansion of the expression (1 + x) ** n.\n",
    "Raises TypeError if either of the arguments are not integers. Raises ValueError if either of the arguments are negative.\n",
    "'''\n",
    "print(long_string)\n"
   ]
  },
  {
   "cell_type": "code",
   "execution_count": 7,
   "metadata": {},
   "outputs": [
    {
     "name": "stdout",
     "output_type": "stream",
     "text": [
      "\n",
      "-------------------math.comb(n, k)-----------------------------\n",
      "math.comb(n, k) --- for number = 404, 10 --- 28529394307817920660\n",
      "math.comb(n, k) --- for number = 10, 2 --- 45\n",
      "math.comb(n, k) --- for number = 10, 1 --- 10\n",
      "math.comb(n, k) --- for number = 10, 10 --- 1\n",
      "math.comb(n, k) --- for number = 10, 11 --- 0\n",
      "---------------------------------------------------------------\n",
      "\n"
     ]
    }
   ],
   "source": [
    "print(\"\\n-------------------math.comb(n, k)-----------------------------\")\n",
    "print(f\"math.comb(n, k) --- for number = 404, 10 --- {math.comb(404, 10)}\")\n",
    "print(f\"math.comb(n, k) --- for number = 10, 2 --- {math.comb(10, 2)}\")\n",
    "print(f\"math.comb(n, k) --- for number = 10, 1 --- {math.comb(10, 1)}\")\n",
    "print(f\"math.comb(n, k) --- for number = 10, 10 --- {math.comb(10, 10)}\")\n",
    "print(f\"math.comb(n, k) --- for number = 10, 11 --- {math.comb(10, 11)}\")\n",
    "# print(f\"math.comb(n, k) --- for number = 404.01 --- {math.comb(404.01, 10)}\") #TypeError: 'float' object cannot be interpreted as an integer\n",
    "#print(f\"math.comb(n, k) --- for number = -404 --- {math.comb(-404, 10)}\") #ValueError: n must be a non-negative integer\n",
    "\n",
    "print(\"---------------------------------------------------------------\\n\")\n"
   ]
  },
  {
   "cell_type": "code",
   "execution_count": 8,
   "metadata": {},
   "outputs": [],
   "source": [
    "#-------------------------------------------------------------------------------------------------\n",
    "#like these, there are many such examples. You can try them one-by-one\n",
    "#Also please add them here. Your contribution shall benefit many others!!\n",
    "# SOURCE - https://www.programiz.com/python-programming/modules/math\n",
    "\n",
    "# ceil(x)\tReturns the smallest integer greater than or equal to x.\n",
    "# copysign(x, y)\tReturns x with the sign of y\n",
    "# fabs(x)\tReturns the absolute value of x\n",
    "# factorial(x)\tReturns the factorial of x\n",
    "# floor(x)\tReturns the largest integer less than or equal to x\n",
    "# fmod(x, y)\tReturns the remainder when x is divided by y\n",
    "# frexp(x)\tReturns the mantissa and exponent of x as the pair (m, e)\n",
    "# fsum(iterable)\tReturns an accurate floating point sum of values in the iterable\n",
    "# isfinite(x)\tReturns True if x is neither an infinity nor a NaN (Not a Number)\n",
    "# isinf(x)\tReturns True if x is a positive or negative infinity\n",
    "# isnan(x)\tReturns True if x is a NaN\n",
    "# ldexp(x, i)\tReturns x * (2**i)\n",
    "# modf(x)\tReturns the fractional and integer parts of x\n",
    "# trunc(x)\tReturns the truncated integer value of x\n",
    "# exp(x)\tReturns e**x\n",
    "# expm1(x)\tReturns e**x - 1\n",
    "# log(x[, base])\tReturns the logarithm of x to the base (defaults to e)\n",
    "# log1p(x)\tReturns the natural logarithm of 1+x\n",
    "# log2(x)\tReturns the base-2 logarithm of x\n",
    "# log10(x)\tReturns the base-10 logarithm of x\n",
    "# pow(x, y)\tReturns x raised to the power y\n",
    "# sqrt(x)\tReturns the square root of x\n",
    "# acos(x)\tReturns the arc cosine of x\n",
    "# asin(x)\tReturns the arc sine of x\n",
    "# atan(x)\tReturns the arc tangent of x\n",
    "# atan2(y, x)\tReturns atan(y / x)\n",
    "# cos(x)\tReturns the cosine of x\n",
    "# hypot(x, y)\tReturns the Euclidean norm, sqrt(x*x + y*y)\n",
    "# sin(x)\tReturns the sine of x\n",
    "# tan(x)\tReturns the tangent of x\n",
    "# degrees(x)\tConverts angle x from radians to degrees\n",
    "# radians(x)\tConverts angle x from degrees to radians\n",
    "# acosh(x)\tReturns the inverse hyperbolic cosine of x\n",
    "# asinh(x)\tReturns the inverse hyperbolic sine of x\n",
    "# atanh(x)\tReturns the inverse hyperbolic tangent of x\n",
    "# cosh(x)\tReturns the hyperbolic cosine of x\n",
    "# sinh(x)\tReturns the hyperbolic cosine of x\n",
    "# tanh(x)\tReturns the hyperbolic tangent of x\n",
    "# erf(x)\tReturns the error function at x\n",
    "# erfc(x)\tReturns the complementary error function at x\n",
    "# gamma(x)\tReturns the Gamma function at x\n",
    "# lgamma(x)\tReturns the natural logarithm of the absolute value of the Gamma function at x\n",
    "# pi\tMathematical constant, the ratio of circumference of a circle to it's diameter (3.14159...)\n",
    "# e\tmathematical constant e (2.71828...)\n",
    "\n",
    "# math.acos(x)\tReturns the arc cosine value of x\n",
    "# math.acosh(x)\tReturns the hyperbolic arc cosine of x\n",
    "# math.asin(x)\tReturns the arc sine of x\n",
    "# math.asinh(x)\tReturns the hyperbolic arc sine of x\n",
    "# math.atan(x)\tReturns the arc tangent value of x\n",
    "# math.atan2(y, x)\tReturns the arc tangent of y/x in radians\n",
    "# math.atanh(x)\tReturns the hyperbolic arctangent value of x\n",
    "# math.ceil(x)\tRounds a number upwards to the nearest integer, and returns the result\n",
    "# math.comb(n, k)\tReturns the number of ways to choose k items from n items without repetition and order\n",
    "# math.copysign(x, y)\tReturns a float consisting of the value of the first parameter and the sign of the second parameter\n",
    "# math.cos(x)\tReturns the cosine of x\n",
    "# math.cosh(x)\tReturns the hyperbolic cosine of x\n",
    "# math.degrees(x)\tConverts an angle from radians to degrees\n",
    "# math.dist(p, q)\tCalculates the euclidean distance between two specified points (p and q), where p and q are the coordinates of that point\n",
    "# math.erf(x)\tReturns the error function of x\n",
    "# math.erfc(x)\tReturns the complementary error function of x\n",
    "# math.exp(x)\tReturns the value of Ex, where E is Euler's number (approximately 2.718281...), and x is the number passed to it\n",
    "# math.expm1(x)\tReturns the value of Ex - 1, where E is Euler's number (approximately 2.718281...), and x is the number passed to it\n",
    "# math.fabs(x)\tReturns the absolute value of a number\n",
    "# math.factorial()\tReturns the factorial of a number\n",
    "# math.floor(x)\tRounds a number downwards to the nearest integer, and returns the result\n",
    "# math.fmod(x, y)\tReturns the remainder of specified numbers when a number is divided by another number\n",
    "# math.frexp()\tReturns the mantissa and the exponent, of a specified value\n",
    "# math.fsum(iterable)\tReturns the sum of all items in an iterable (tuples, arrays, lists, etc.)\n",
    "# math.gamma(x)\tReturns the gamma value of x\n",
    "# math.gcd()\tReturns the highest value that can divide two integers\n",
    "# math.hypot()\tFind the Euclidean distance from the origin for n inputs\n",
    "# math.isclose()\tChecks whether two values are close, or not\n",
    "# math.isfinite(x)\tChecks whether x is a finite number\n",
    "# math.isinf(x)\tCheck whether x is a positive or negative infinty\n",
    "# math.isnan(x)\tChecks whether x is NaN (not a number)\n",
    "# math.isqrt(n)\tReturns the nearest integer square root of n\n",
    "# math.ldexp(x, i)\tReturns the expression x * 2i where x is mantissa and i is an exponent\n",
    "# math.lgamma(x)\tReturns the log gamma value of x\n",
    "# math.log(x, base)\tReturns the natural logarithm of a number, or the logarithm of number to base\n",
    "# math.log10(x)\tReturns the base-10 logarithm of x\n",
    "# math.log1p(x)\tReturns the natural logarithm of 1+x\n",
    "# math.log2(x)\tReturns the base-2 logarithm of x\n",
    "# math.perm(n, k)\tReturns the number of ways to choose k items from n items with order and without repetition\n",
    "# math.pow(x, y)\tReturns the value of x to the power of y\n",
    "# math.prod(iterable, *, start=1)\tReturns the product of an iterable (lists, array, tuples, etc.)\n",
    "# math.radians(x)\tConverts a degree value (x) to radians\n",
    "# math.remainder(x, y)\tReturns the closest value that can make numerator completely divisible by the denominator\n",
    "# math.sin(x)\tReturns the sine of x\n",
    "# math.sinh(x)\tReturns the hyperbolic sine of x\n",
    "# math.sqrt(x)\tReturns the square root of x\n",
    "# math.tan(x)\tReturns the tangent of x\n",
    "# math.tanh(x)\tReturns the hyperbolic tangent of x\n",
    "# math.trunc(x)\tReturns the truncated integer parts of x\n",
    "# Math Constants\n",
    "# Constant\tDescription\n",
    "# math.e\tReturns Euler's number (2.7182...)\n",
    "# math.inf\tReturns a floating-point positive infinity\n",
    "# math.nan\tReturns a floating-point NaN (Not a Number) value\n",
    "# math.pi\tReturns PI (3.1415...)\n",
    "# math.tau\tReturns tau (6.2831...)"
   ]
  },
  {
   "cell_type": "code",
   "execution_count": null,
   "metadata": {},
   "outputs": [],
   "source": []
  }
 ],
 "metadata": {
  "kernelspec": {
   "display_name": "Python 3.8.1 32-bit",
   "language": "python",
   "name": "python38132bit93aab49dff954651a4c1e4402da878fd"
  },
  "language_info": {
   "codemirror_mode": {
    "name": "ipython",
    "version": 3
   },
   "file_extension": ".py",
   "mimetype": "text/x-python",
   "name": "python",
   "nbconvert_exporter": "python",
   "pygments_lexer": "ipython3",
   "version": "3.8.1"
  }
 },
 "nbformat": 4,
 "nbformat_minor": 4
}
