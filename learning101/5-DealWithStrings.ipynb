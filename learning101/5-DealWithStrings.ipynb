{
 "cells": [
  {
   "cell_type": "code",
   "execution_count": 1,
   "metadata": {},
   "outputs": [
    {
     "name": "stdout",
     "output_type": "stream",
     "text": [
      "\n",
      "Hello there!\n",
      "We are currently creating a long string.\n",
      "Write multiple lines here,\n",
      "without any worries. B-)\n",
      "\n"
     ]
    }
   ],
   "source": [
    "# write a long string (multiple lines without using \\n)\n",
    "long_string = '''\n",
    "Hello there!\n",
    "We are currently creating a long string.\n",
    "Write multiple lines here,\n",
    "without any worries. B-)\n",
    "'''\n",
    "print(long_string)"
   ]
  },
  {
   "cell_type": "code",
   "execution_count": 2,
   "metadata": {},
   "outputs": [
    {
     "name": "stdout",
     "output_type": "stream",
     "text": [
      "See, we are writing \" in  a print statement without any worries!\n",
      "Isn't it awesome??\n"
     ]
    }
   ],
   "source": [
    "#using escape sequences\n",
    "\n",
    "    #it's difficult to insert a special character in a string or print statement.\n",
    "    #so, we use \\ as our saviour!\n",
    "print(\"See, we are writing \\\" in  a print statement without any worries!\")\n",
    "print('Isn\\'t it awesome??')"
   ]
  },
  {
   "cell_type": "code",
   "execution_count": 3,
   "metadata": {},
   "outputs": [
    {
     "name": "stdout",
     "output_type": "stream",
     "text": [
      "This is the first line \n",
      "This is the second line\n"
     ]
    }
   ],
   "source": [
    "#newline\n",
    "print(\"This is the first line \\nThis is the second line\")"
   ]
  },
  {
   "cell_type": "code",
   "execution_count": 4,
   "metadata": {},
   "outputs": [
    {
     "name": "stdout",
     "output_type": "stream",
     "text": [
      "This is an incomplete li\bne\n"
     ]
    }
   ],
   "source": [
    "#backspace\n",
    "print(\"This is an incomplete li\\bne\")"
   ]
  },
  {
   "cell_type": "code",
   "execution_count": 5,
   "metadata": {},
   "outputs": [
    {
     "name": "stdout",
     "output_type": "stream",
     "text": [
      "Here comes the tab\tGot that??\n"
     ]
    }
   ],
   "source": [
    "#horizontal tab\n",
    "print(\"Here comes the tab\\tGot that??\")\n"
   ]
  },
  {
   "cell_type": "code",
   "execution_count": 6,
   "metadata": {},
   "outputs": [
    {
     "name": "stdout",
     "output_type": "stream",
     "text": [
      "So, here is the \\ you wanted to see!\n"
     ]
    }
   ],
   "source": [
    "#print a backslash itself\n",
    "print(\"So, here is the \\\\ you wanted to see!\")"
   ]
  },
  {
   "cell_type": "code",
   "execution_count": 7,
   "metadata": {},
   "outputs": [
    {
     "name": "stdout",
     "output_type": "stream",
     "text": [
      "This code was written in the year 2020\n",
      "After 10 years it will be the year 2030\n",
      "The code is written in the year 2020\n",
      "After 10 years it will be the year 2030\n"
     ]
    }
   ],
   "source": [
    "#formating a string (we have already seen this before, now it is time to realize it !!)\n",
    "a = 2020\n",
    "print(\"This code was written in the year \"+str(a)) #here the number is printed in form of a string otherwise it throws an error\n",
    "                                                    #TypeError: can only concatenate str (not \"int\") to str\n",
    "print(\"After 10 years it will be the year \"+str(a+10)) #same explanation as above\n",
    "#now let us use a shortcut\n",
    "print(f\"The code is written in the year {a}\") #see, how simple it is to format a string!!\n",
    "print(f\"After 10 years it will be the year {a+10}\")"
   ]
  },
  {
   "cell_type": "code",
   "execution_count": 8,
   "metadata": {},
   "outputs": [
    {
     "name": "stdout",
     "output_type": "stream",
     "text": [
      "Climate change is real!\n",
      "limate ch\n",
      "Climate ch\n",
      "Climate ch\n",
      "Climate change is real!\n",
      "!\n",
      "a\n",
      "!laer si egnahc etamilC\n"
     ]
    }
   ],
   "source": [
    "#how to get a string index\n",
    "text = \"Climate change is real!\"\n",
    "print(text)\n",
    "print(text[1:10]) #counting starts from 0\n",
    "print(text[0:10]) #now see the difference\n",
    "print(text[:10]) #prints first 10 elements\n",
    "print(text[::]) #prints Everything\n",
    "print(text[-1]) #first element starting from the end of the string\n",
    "print(text[-3]) #third element starting from the end of the string\n",
    "print(text[::-1]) #prints in reverse order"
   ]
  },
  {
   "cell_type": "code",
   "execution_count": 9,
   "metadata": {},
   "outputs": [],
   "source": [
    "# there are many more things to know about strings. \n",
    "# You are welcome to add anything relevant you wish to in this notebook!\n",
    "# Please collaborate and contribute :)"
   ]
  },
  {
   "cell_type": "code",
   "execution_count": null,
   "metadata": {},
   "outputs": [],
   "source": []
  }
 ],
 "metadata": {
  "kernelspec": {
   "display_name": "Python 3.8.1 32-bit",
   "language": "python",
   "name": "python38132bit93aab49dff954651a4c1e4402da878fd"
  },
  "language_info": {
   "codemirror_mode": {
    "name": "ipython",
    "version": 3
   },
   "file_extension": ".py",
   "mimetype": "text/x-python",
   "name": "python",
   "nbconvert_exporter": "python",
   "pygments_lexer": "ipython3",
   "version": "3.8.1"
  }
 },
 "nbformat": 4,
 "nbformat_minor": 4
}
