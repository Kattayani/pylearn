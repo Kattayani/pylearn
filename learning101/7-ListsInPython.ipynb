{
  "nbformat": 4,
  "nbformat_minor": 0,
  "metadata": {
    "colab": {
      "name": "7-ListsInPython.ipynb",
      "provenance": [],
      "collapsed_sections": []
    },
    "kernelspec": {
      "name": "python3",
      "display_name": "Python 3"
    }
  },
  "cells": [
    {
      "cell_type": "code",
      "metadata": {
        "id": "7deMRYanwOzf",
        "colab_type": "code",
        "colab": {
          "base_uri": "https://localhost:8080/",
          "height": 72
        },
        "outputId": "de4f8750-6ad4-4a75-df81-91f2f2b40e63"
      },
      "source": [
        "# Working with Lists!\n",
        "\n",
        "cars = [\"honda\",\"hundai\",\"tata\"] # this is a list type data structure. each elements in list is called item. \n",
        "print(cars)\n",
        "print(cars[0])# we can call any item in this list by its index no.\n",
        "print(cars[2])"
      ],
      "execution_count": null,
      "outputs": [
        {
          "output_type": "stream",
          "text": [
            "['honda', 'hundai', 'tata']\n",
            "honda\n",
            "tata\n"
          ],
          "name": "stdout"
        }
      ]
    },
    {
      "cell_type": "code",
      "metadata": {
        "id": "yl5bs3vhxyzZ",
        "colab_type": "code",
        "colab": {
          "base_uri": "https://localhost:8080/",
          "height": 54
        },
        "outputId": "7bbbd5a8-4c04-4248-bd07-682589dc0b16"
      },
      "source": [
        "# Changing items in a list\n",
        "\n",
        "shoping_cart = [\"Pencil\", \"notebook\",\"book\"]\n",
        "print(shoping_cart)\n",
        "shoping_cart[0] = \"pen\" # we can change item by using the index no.\n",
        "print(shoping_cart)"
      ],
      "execution_count": null,
      "outputs": [
        {
          "output_type": "stream",
          "text": [
            "['Pencil', 'notebook', 'book']\n",
            "['pen', 'notebook', 'book']\n"
          ],
          "name": "stdout"
        }
      ]
    },
    {
      "cell_type": "code",
      "metadata": {
        "id": "r03lfvbgBaJu",
        "colab_type": "code",
        "colab": {
          "base_uri": "https://localhost:8080/",
          "height": 35
        },
        "outputId": "17715b58-8ff0-425d-f618-5642df0421b6"
      },
      "source": [
        "#Appending to a list\n",
        "\n",
        "fruits = ['banana','orange','watermelon']\n",
        "fruits.append('grapes') # we can add items in list using append method. \n",
        "print(fruits)"
      ],
      "execution_count": null,
      "outputs": [
        {
          "output_type": "stream",
          "text": [
            "['banana', 'orange', 'watermelon', 'grapes']\n"
          ],
          "name": "stdout"
        }
      ]
    },
    {
      "cell_type": "code",
      "metadata": {
        "id": "sqWuUqabCrRG",
        "colab_type": "code",
        "colab": {
          "base_uri": "https://localhost:8080/",
          "height": 35
        },
        "outputId": "aabd56ba-7b66-4a8b-f764-3f3f88b4e20a"
      },
      "source": [
        "# The 'insert()' method!\n",
        "\n",
        "weapons = ['pan', 'assult rifle', 'shotgun', 'pistol']\n",
        "weapons.insert(3, 'sniper') # we can add item in any position of  the list by using insert method.\n",
        "print(weapons)"
      ],
      "execution_count": null,
      "outputs": [
        {
          "output_type": "stream",
          "text": [
            "['pan', 'assult rifle', 'shotgun', 'sniper', 'pistol']\n"
          ],
          "name": "stdout"
        }
      ]
    },
    {
      "cell_type": "code",
      "metadata": {
        "id": "fQpQjFNWEK-d",
        "colab_type": "code",
        "colab": {}
      },
      "source": [
        ""
      ],
      "execution_count": null,
      "outputs": []
    }
  ]
}
