{
 "cells": [
  {
   "cell_type": "code",
   "execution_count": 4,
   "metadata": {},
   "outputs": [
    {
     "name": "stdout",
     "output_type": "stream",
     "text": [
      "1\n",
      "2\n",
      "3\n",
      "4\n",
      "5\n",
      "6\n",
      "7\n",
      "8\n",
      "9\n",
      "10\n"
     ]
    }
   ],
   "source": [
    "#for the love of loops, let's start with for loops!\n",
    "\n",
    "# lets say we want to print numbers from 1 to 10. \n",
    "# Yes it's easy to just use 10 print statements, but that's tedious right?\n",
    "# How about doing it in 2 lines!\n",
    "\n",
    "for i in range(1,11):\n",
    "    print (i)\n",
    "    \n",
    "# range is used to define our limits, ie, range(1,11) = numbers from 1 to 10. \n",
    "# Yes, the limit ends one step ahead of the number stated.    "
   ]
  },
  {
   "cell_type": "code",
   "execution_count": null,
   "metadata": {},
   "outputs": [],
   "source": []
  }
 ],
 "metadata": {
  "kernelspec": {
   "display_name": "Python 3",
   "language": "python",
   "name": "python3"
  },
  "language_info": {
   "codemirror_mode": {
    "name": "ipython",
    "version": 3
   },
   "file_extension": ".py",
   "mimetype": "text/x-python",
   "name": "python",
   "nbconvert_exporter": "python",
   "pygments_lexer": "ipython3",
   "version": "3.8.1"
  }
 },
 "nbformat": 4,
 "nbformat_minor": 4
}
